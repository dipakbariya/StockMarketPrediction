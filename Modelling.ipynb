{
  "nbformat": 4,
  "nbformat_minor": 0,
  "metadata": {
    "colab": {
      "name": "Modelling.ipynb",
      "provenance": [],
      "collapsed_sections": []
    },
    "kernelspec": {
      "name": "python3",
      "display_name": "Python 3"
    },
    "language_info": {
      "name": "python"
    }
  },
  "cells": [
    {
      "cell_type": "markdown",
      "metadata": {
        "id": "700AvuYXk9j5"
      },
      "source": [
        "# Imported useful libraries "
      ]
    },
    {
      "cell_type": "code",
      "metadata": {
        "colab": {
          "base_uri": "https://localhost:8080/"
        },
        "id": "_z29ODpEN31V",
        "outputId": "4a304066-8698-4fdb-9257-4d1c9f1445a1"
      },
      "source": [
        "from google.colab import drive\n",
        "drive.mount('/content/drive')"
      ],
      "execution_count": null,
      "outputs": [
        {
          "output_type": "stream",
          "name": "stdout",
          "text": [
            "Drive already mounted at /content/drive; to attempt to forcibly remount, call drive.mount(\"/content/drive\", force_remount=True).\n"
          ]
        }
      ]
    },
    {
      "cell_type": "code",
      "metadata": {
        "id": "J2qH-0-DdFVz",
        "colab": {
          "base_uri": "https://localhost:8080/"
        },
        "outputId": "23ce458b-1193-4e47-e415-cc49b38d0a82"
      },
      "source": [
        "\n",
        "!pip install snscrape\n",
        "!pip install yfinance"
      ],
      "execution_count": null,
      "outputs": [
        {
          "output_type": "stream",
          "name": "stdout",
          "text": [
            "Requirement already satisfied: snscrape in /usr/local/lib/python3.7/dist-packages (0.3.4)\n",
            "Requirement already satisfied: beautifulsoup4 in /usr/local/lib/python3.7/dist-packages (from snscrape) (4.6.3)\n",
            "Requirement already satisfied: requests[socks] in /usr/local/lib/python3.7/dist-packages (from snscrape) (2.23.0)\n",
            "Requirement already satisfied: lxml in /usr/local/lib/python3.7/dist-packages (from snscrape) (4.6.3)\n",
            "Requirement already satisfied: chardet<4,>=3.0.2 in /usr/local/lib/python3.7/dist-packages (from requests[socks]->snscrape) (3.0.4)\n",
            "Requirement already satisfied: urllib3!=1.25.0,!=1.25.1,<1.26,>=1.21.1 in /usr/local/lib/python3.7/dist-packages (from requests[socks]->snscrape) (1.24.3)\n",
            "Requirement already satisfied: idna<3,>=2.5 in /usr/local/lib/python3.7/dist-packages (from requests[socks]->snscrape) (2.10)\n",
            "Requirement already satisfied: certifi>=2017.4.17 in /usr/local/lib/python3.7/dist-packages (from requests[socks]->snscrape) (2021.5.30)\n",
            "Requirement already satisfied: PySocks!=1.5.7,>=1.5.6 in /usr/local/lib/python3.7/dist-packages (from requests[socks]->snscrape) (1.7.1)\n",
            "Requirement already satisfied: yfinance in /usr/local/lib/python3.7/dist-packages (0.1.63)\n",
            "Requirement already satisfied: numpy>=1.15 in /usr/local/lib/python3.7/dist-packages (from yfinance) (1.19.5)\n",
            "Requirement already satisfied: requests>=2.20 in /usr/local/lib/python3.7/dist-packages (from yfinance) (2.23.0)\n",
            "Requirement already satisfied: pandas>=0.24 in /usr/local/lib/python3.7/dist-packages (from yfinance) (1.1.5)\n",
            "Requirement already satisfied: multitasking>=0.0.7 in /usr/local/lib/python3.7/dist-packages (from yfinance) (0.0.9)\n",
            "Requirement already satisfied: lxml>=4.5.1 in /usr/local/lib/python3.7/dist-packages (from yfinance) (4.6.3)\n",
            "Requirement already satisfied: pytz>=2017.2 in /usr/local/lib/python3.7/dist-packages (from pandas>=0.24->yfinance) (2018.9)\n",
            "Requirement already satisfied: python-dateutil>=2.7.3 in /usr/local/lib/python3.7/dist-packages (from pandas>=0.24->yfinance) (2.8.2)\n",
            "Requirement already satisfied: six>=1.5 in /usr/local/lib/python3.7/dist-packages (from python-dateutil>=2.7.3->pandas>=0.24->yfinance) (1.15.0)\n",
            "Requirement already satisfied: urllib3!=1.25.0,!=1.25.1,<1.26,>=1.21.1 in /usr/local/lib/python3.7/dist-packages (from requests>=2.20->yfinance) (1.24.3)\n",
            "Requirement already satisfied: chardet<4,>=3.0.2 in /usr/local/lib/python3.7/dist-packages (from requests>=2.20->yfinance) (3.0.4)\n",
            "Requirement already satisfied: idna<3,>=2.5 in /usr/local/lib/python3.7/dist-packages (from requests>=2.20->yfinance) (2.10)\n",
            "Requirement already satisfied: certifi>=2017.4.17 in /usr/local/lib/python3.7/dist-packages (from requests>=2.20->yfinance) (2021.5.30)\n"
          ]
        }
      ]
    },
    {
      "cell_type": "code",
      "metadata": {
        "id": "C1WhMgrCNxVE"
      },
      "source": [
        "import pandas as pd\n",
        "import numpy as np\n",
        "import matplotlib.pyplot as plt\n",
        "from sklearn import preprocessing\n",
        "from sklearn.model_selection import train_test_split\n",
        "from sklearn.linear_model import LinearRegression\n",
        "from sklearn.metrics import mean_squared_error\n",
        "import math\n",
        "from sklearn.metrics import mean_absolute_error\n",
        "from sklearn.metrics import r2_score\n",
        "from sklearn.preprocessing import StandardScaler"
      ],
      "execution_count": null,
      "outputs": []
    },
    {
      "cell_type": "code",
      "metadata": {
        "id": "AZDE9gd05EuN"
      },
      "source": [
        ""
      ],
      "execution_count": null,
      "outputs": []
    },
    {
      "cell_type": "markdown",
      "metadata": {
        "id": "Ioz6V1vy8KEy"
      },
      "source": [
        "# Loading Dataset"
      ]
    },
    {
      "cell_type": "markdown",
      "metadata": {
        "id": "gODDHnAl8QhH"
      },
      "source": [
        "###### Label Encoding and Standard Scalar"
      ]
    },
    {
      "cell_type": "code",
      "metadata": {
        "id": "J8qYKCRWGEnF"
      },
      "source": [
        "from sklearn.preprocessing import LabelEncoder\n",
        "df = pd.read_csv(\"/content/drive/MyDrive/Dipak/Internship/Technocolab/Twitter_stock_final_dataset.csv\")\n",
        "df[\"Date\"] = pd.to_datetime(df[['Day','Month','Year']])\n",
        "df.index=df.Date\n",
        "# df.drop(['Day','Month','Year','Date','Total Tweets','Open','High','Low','Volume'], axis=1, inplace=True)\n",
        "le=LabelEncoder()\n",
        "le1=LabelEncoder()\n",
        "\n",
        "df.StockName = le.fit_transform(df.StockName)\n",
        "df.Year = le1.fit_transform(df.Year)\n",
        "\n",
        "sc1 = StandardScaler()\n",
        "sc2 = StandardScaler()\n",
        "df.iloc[:,9] = sc1.fit_transform(np.array(df.iloc[:,9]).reshape(-1,1))\n",
        "df.iloc[:,8] = sc2.fit_transform(np.array(df.iloc[:,8]).reshape(-1,1))"
      ],
      "execution_count": null,
      "outputs": []
    },
    {
      "cell_type": "code",
      "metadata": {
        "colab": {
          "base_uri": "https://localhost:8080/",
          "height": 235
        },
        "id": "ORlXv6ReWvvP",
        "outputId": "41d98a83-dc7c-409e-a79c-ac8fed7ae3fa"
      },
      "source": [
        "df.head()"
      ],
      "execution_count": null,
      "outputs": [
        {
          "output_type": "execute_result",
          "data": {
            "text/html": [
              "<div>\n",
              "<style scoped>\n",
              "    .dataframe tbody tr th:only-of-type {\n",
              "        vertical-align: middle;\n",
              "    }\n",
              "\n",
              "    .dataframe tbody tr th {\n",
              "        vertical-align: top;\n",
              "    }\n",
              "\n",
              "    .dataframe thead th {\n",
              "        text-align: right;\n",
              "    }\n",
              "</style>\n",
              "<table border=\"1\" class=\"dataframe\">\n",
              "  <thead>\n",
              "    <tr style=\"text-align: right;\">\n",
              "      <th></th>\n",
              "      <th>Year</th>\n",
              "      <th>Month</th>\n",
              "      <th>Day</th>\n",
              "      <th>StockName</th>\n",
              "      <th>Positive</th>\n",
              "      <th>Negative</th>\n",
              "      <th>Neutral</th>\n",
              "      <th>Total Tweets</th>\n",
              "      <th>Close</th>\n",
              "      <th>Volume</th>\n",
              "      <th>Open</th>\n",
              "      <th>High</th>\n",
              "      <th>Low</th>\n",
              "      <th>Day_of_week</th>\n",
              "      <th>Date</th>\n",
              "    </tr>\n",
              "    <tr>\n",
              "      <th>Date</th>\n",
              "      <th></th>\n",
              "      <th></th>\n",
              "      <th></th>\n",
              "      <th></th>\n",
              "      <th></th>\n",
              "      <th></th>\n",
              "      <th></th>\n",
              "      <th></th>\n",
              "      <th></th>\n",
              "      <th></th>\n",
              "      <th></th>\n",
              "      <th></th>\n",
              "      <th></th>\n",
              "      <th></th>\n",
              "      <th></th>\n",
              "    </tr>\n",
              "  </thead>\n",
              "  <tbody>\n",
              "    <tr>\n",
              "      <th>2020-01-01</th>\n",
              "      <td>0</td>\n",
              "      <td>1</td>\n",
              "      <td>1</td>\n",
              "      <td>0</td>\n",
              "      <td>10</td>\n",
              "      <td>2</td>\n",
              "      <td>8</td>\n",
              "      <td>20</td>\n",
              "      <td>-0.866296</td>\n",
              "      <td>1.426319</td>\n",
              "      <td>74.0600</td>\n",
              "      <td>75.1500</td>\n",
              "      <td>73.7975</td>\n",
              "      <td>Wednesday</td>\n",
              "      <td>2020-01-01</td>\n",
              "    </tr>\n",
              "    <tr>\n",
              "      <th>2020-01-01</th>\n",
              "      <td>0</td>\n",
              "      <td>1</td>\n",
              "      <td>1</td>\n",
              "      <td>1</td>\n",
              "      <td>9</td>\n",
              "      <td>0</td>\n",
              "      <td>11</td>\n",
              "      <td>20</td>\n",
              "      <td>-0.374931</td>\n",
              "      <td>-0.602748</td>\n",
              "      <td>158.7800</td>\n",
              "      <td>160.7300</td>\n",
              "      <td>158.3300</td>\n",
              "      <td>Wednesday</td>\n",
              "      <td>2020-01-01</td>\n",
              "    </tr>\n",
              "    <tr>\n",
              "      <th>2020-01-01</th>\n",
              "      <td>0</td>\n",
              "      <td>1</td>\n",
              "      <td>1</td>\n",
              "      <td>4</td>\n",
              "      <td>17</td>\n",
              "      <td>3</td>\n",
              "      <td>3</td>\n",
              "      <td>23</td>\n",
              "      <td>-0.803307</td>\n",
              "      <td>-0.151065</td>\n",
              "      <td>84.9000</td>\n",
              "      <td>86.1391</td>\n",
              "      <td>84.3420</td>\n",
              "      <td>Wednesday</td>\n",
              "      <td>2020-01-01</td>\n",
              "    </tr>\n",
              "    <tr>\n",
              "      <th>2020-01-01</th>\n",
              "      <td>0</td>\n",
              "      <td>1</td>\n",
              "      <td>1</td>\n",
              "      <td>2</td>\n",
              "      <td>1</td>\n",
              "      <td>0</td>\n",
              "      <td>0</td>\n",
              "      <td>1</td>\n",
              "      <td>-0.953099</td>\n",
              "      <td>-0.582400</td>\n",
              "      <td>59.6875</td>\n",
              "      <td>59.9775</td>\n",
              "      <td>59.1800</td>\n",
              "      <td>Wednesday</td>\n",
              "      <td>2020-01-01</td>\n",
              "    </tr>\n",
              "    <tr>\n",
              "      <th>2020-01-01</th>\n",
              "      <td>0</td>\n",
              "      <td>1</td>\n",
              "      <td>1</td>\n",
              "      <td>3</td>\n",
              "      <td>1</td>\n",
              "      <td>0</td>\n",
              "      <td>1</td>\n",
              "      <td>2</td>\n",
              "      <td>-0.661423</td>\n",
              "      <td>-0.875927</td>\n",
              "      <td>109.4700</td>\n",
              "      <td>111.2100</td>\n",
              "      <td>109.2750</td>\n",
              "      <td>Wednesday</td>\n",
              "      <td>2020-01-01</td>\n",
              "    </tr>\n",
              "  </tbody>\n",
              "</table>\n",
              "</div>"
            ],
            "text/plain": [
              "            Year  Month  Day  ...       Low  Day_of_week       Date\n",
              "Date                          ...                                  \n",
              "2020-01-01     0      1    1  ...   73.7975    Wednesday 2020-01-01\n",
              "2020-01-01     0      1    1  ...  158.3300    Wednesday 2020-01-01\n",
              "2020-01-01     0      1    1  ...   84.3420    Wednesday 2020-01-01\n",
              "2020-01-01     0      1    1  ...   59.1800    Wednesday 2020-01-01\n",
              "2020-01-01     0      1    1  ...  109.2750    Wednesday 2020-01-01\n",
              "\n",
              "[5 rows x 15 columns]"
            ]
          },
          "metadata": {},
          "execution_count": 69
        }
      ]
    },
    {
      "cell_type": "code",
      "metadata": {
        "id": "Tf2_LGYo5riM"
      },
      "source": [
        "#Dataframe for the model evaluation\n",
        "conclu = pd.DataFrame()\n",
        "encoder =[]\n",
        "method = []\n",
        "mae1 = []\n",
        "rmse1 = []\n",
        "r2score1 =[]\n",
        "def update():\n",
        "  mae1.append(mae[-1])\n",
        "  rmse1.append(rmse[-1])\n",
        "  r2score1.append(r2score[-1])\n",
        "  return conclu"
      ],
      "execution_count": null,
      "outputs": []
    },
    {
      "cell_type": "code",
      "metadata": {
        "id": "9f3Z0uuS_GMB"
      },
      "source": [
        ""
      ],
      "execution_count": null,
      "outputs": []
    },
    {
      "cell_type": "code",
      "metadata": {
        "colab": {
          "base_uri": "https://localhost:8080/"
        },
        "id": "ptfxriCCO_pa",
        "outputId": "07d87b8e-ec1c-4d74-ed41-6c24c83bcd5f"
      },
      "source": [
        "# Correlation between Close and all independent features.\n",
        "import seaborn as sns\n",
        "cor =df.corr().iloc[:,8]\n",
        "cor"
      ],
      "execution_count": null,
      "outputs": [
        {
          "output_type": "execute_result",
          "data": {
            "text/plain": [
              "Year            0.403152\n",
              "Month           0.086547\n",
              "Day             0.006653\n",
              "StockName       0.577297\n",
              "Positive        0.540999\n",
              "Negative        0.547786\n",
              "Neutral         0.359389\n",
              "Total Tweets    0.496966\n",
              "Close           1.000000\n",
              "Volume         -0.311128\n",
              "Open            0.999192\n",
              "High            0.999160\n",
              "Low             0.999518\n",
              "Name: Close, dtype: float64"
            ]
          },
          "metadata": {},
          "execution_count": 71
        }
      ]
    },
    {
      "cell_type": "code",
      "metadata": {
        "colab": {
          "base_uri": "https://localhost:8080/"
        },
        "id": "d0yWK1VUP_IM",
        "outputId": "3ea002b3-965b-4999-f7f7-8b899e75c293"
      },
      "source": [
        "cor[abs(cor) > abs(0.30)]"
      ],
      "execution_count": null,
      "outputs": [
        {
          "output_type": "execute_result",
          "data": {
            "text/plain": [
              "Year            0.403152\n",
              "StockName       0.577297\n",
              "Positive        0.540999\n",
              "Negative        0.547786\n",
              "Neutral         0.359389\n",
              "Total Tweets    0.496966\n",
              "Close           1.000000\n",
              "Volume         -0.311128\n",
              "Open            0.999192\n",
              "High            0.999160\n",
              "Low             0.999518\n",
              "Name: Close, dtype: float64"
            ]
          },
          "metadata": {},
          "execution_count": 72
        }
      ]
    },
    {
      "cell_type": "markdown",
      "metadata": {
        "id": "8Uw8-r4s8qv-"
      },
      "source": [
        "## Feature Selection for the model"
      ]
    },
    {
      "cell_type": "code",
      "metadata": {
        "colab": {
          "base_uri": "https://localhost:8080/",
          "height": 235
        },
        "id": "5LiKbqF5SpFA",
        "outputId": "299311c1-bc21-4bf8-8d51-4933aef793bd"
      },
      "source": [
        "df = df[[\"Year\",\"StockName\",\"Positive\",\"Negative\",\"Neutral\",\"Close\",\"Volume\"]]\n",
        "df.head()"
      ],
      "execution_count": null,
      "outputs": [
        {
          "output_type": "execute_result",
          "data": {
            "text/html": [
              "<div>\n",
              "<style scoped>\n",
              "    .dataframe tbody tr th:only-of-type {\n",
              "        vertical-align: middle;\n",
              "    }\n",
              "\n",
              "    .dataframe tbody tr th {\n",
              "        vertical-align: top;\n",
              "    }\n",
              "\n",
              "    .dataframe thead th {\n",
              "        text-align: right;\n",
              "    }\n",
              "</style>\n",
              "<table border=\"1\" class=\"dataframe\">\n",
              "  <thead>\n",
              "    <tr style=\"text-align: right;\">\n",
              "      <th></th>\n",
              "      <th>Year</th>\n",
              "      <th>StockName</th>\n",
              "      <th>Positive</th>\n",
              "      <th>Negative</th>\n",
              "      <th>Neutral</th>\n",
              "      <th>Close</th>\n",
              "      <th>Volume</th>\n",
              "    </tr>\n",
              "    <tr>\n",
              "      <th>Date</th>\n",
              "      <th></th>\n",
              "      <th></th>\n",
              "      <th></th>\n",
              "      <th></th>\n",
              "      <th></th>\n",
              "      <th></th>\n",
              "      <th></th>\n",
              "    </tr>\n",
              "  </thead>\n",
              "  <tbody>\n",
              "    <tr>\n",
              "      <th>2020-01-01</th>\n",
              "      <td>0</td>\n",
              "      <td>0</td>\n",
              "      <td>10</td>\n",
              "      <td>2</td>\n",
              "      <td>8</td>\n",
              "      <td>-0.866296</td>\n",
              "      <td>1.426319</td>\n",
              "    </tr>\n",
              "    <tr>\n",
              "      <th>2020-01-01</th>\n",
              "      <td>0</td>\n",
              "      <td>1</td>\n",
              "      <td>9</td>\n",
              "      <td>0</td>\n",
              "      <td>11</td>\n",
              "      <td>-0.374931</td>\n",
              "      <td>-0.602748</td>\n",
              "    </tr>\n",
              "    <tr>\n",
              "      <th>2020-01-01</th>\n",
              "      <td>0</td>\n",
              "      <td>4</td>\n",
              "      <td>17</td>\n",
              "      <td>3</td>\n",
              "      <td>3</td>\n",
              "      <td>-0.803307</td>\n",
              "      <td>-0.151065</td>\n",
              "    </tr>\n",
              "    <tr>\n",
              "      <th>2020-01-01</th>\n",
              "      <td>0</td>\n",
              "      <td>2</td>\n",
              "      <td>1</td>\n",
              "      <td>0</td>\n",
              "      <td>0</td>\n",
              "      <td>-0.953099</td>\n",
              "      <td>-0.582400</td>\n",
              "    </tr>\n",
              "    <tr>\n",
              "      <th>2020-01-01</th>\n",
              "      <td>0</td>\n",
              "      <td>3</td>\n",
              "      <td>1</td>\n",
              "      <td>0</td>\n",
              "      <td>1</td>\n",
              "      <td>-0.661423</td>\n",
              "      <td>-0.875927</td>\n",
              "    </tr>\n",
              "  </tbody>\n",
              "</table>\n",
              "</div>"
            ],
            "text/plain": [
              "            Year  StockName  Positive  Negative  Neutral     Close    Volume\n",
              "Date                                                                        \n",
              "2020-01-01     0          0        10         2        8 -0.866296  1.426319\n",
              "2020-01-01     0          1         9         0       11 -0.374931 -0.602748\n",
              "2020-01-01     0          4        17         3        3 -0.803307 -0.151065\n",
              "2020-01-01     0          2         1         0        0 -0.953099 -0.582400\n",
              "2020-01-01     0          3         1         0        1 -0.661423 -0.875927"
            ]
          },
          "metadata": {},
          "execution_count": 73
        }
      ]
    },
    {
      "cell_type": "code",
      "metadata": {
        "id": "HQuTLLMYNnOt"
      },
      "source": [
        "# Target feature and independent features\n",
        "X = np.array(df.drop([\"Close\"],1))\n",
        "y=np.array(df.Close)"
      ],
      "execution_count": null,
      "outputs": []
    },
    {
      "cell_type": "markdown",
      "metadata": {
        "id": "o3gzskYR8xCS"
      },
      "source": [
        "## Linear Regression"
      ]
    },
    {
      "cell_type": "code",
      "metadata": {
        "colab": {
          "base_uri": "https://localhost:8080/",
          "height": 134
        },
        "id": "l54LnlhNQfd6",
        "outputId": "6e1509c9-fb1d-4dc8-e954-8cd9208cf6b8"
      },
      "source": [
        "#Linear regression with label encoder\n",
        "\n",
        "from sklearn.model_selection import TimeSeriesSplit\n",
        "tscv = TimeSeriesSplit()\n",
        "print(tscv)\n",
        "\n",
        "samples=[]\n",
        "mae=[]\n",
        "rmse=[]\n",
        "r2score =[]\n",
        "\n",
        "for train_index, test_index in tscv.split(X):\n",
        " \n",
        "  X_train, X_test = X[train_index], X[test_index]\n",
        "  y_train, y_test = y[train_index], y[test_index]\n",
        "  regressor = LinearRegression()\n",
        "  regressor.fit(X_train,y_train)\n",
        "  y_pred = regressor.predict(X_test)\n",
        "  rmse.append(math.sqrt(mean_squared_error(y_test, y_pred)))\n",
        "  mae.append(mean_absolute_error(y_test, y_pred))\n",
        "  r2score.append(r2_score(y_test, y_pred))\n",
        "  samples.append(len(train_index))\n",
        "for i in range(len(samples)):\n",
        "  print(\"Samples:\",samples[i],\"RMSE\",rmse[i]) \n",
        "\n",
        "\n",
        "method.append('LinearRegression')\n",
        "encoder.append('Label')\n",
        "update()"
      ],
      "execution_count": null,
      "outputs": [
        {
          "output_type": "stream",
          "name": "stdout",
          "text": [
            "TimeSeriesSplit(max_train_size=None, n_splits=5)\n",
            "Samples: 498 RMSE 0.3606687375947129\n",
            "Samples: 995 RMSE 0.559709569480944\n",
            "Samples: 1492 RMSE 1.2114102431364882\n",
            "Samples: 1989 RMSE 0.6107836252802381\n",
            "Samples: 2486 RMSE 0.7216369739555046\n"
          ]
        },
        {
          "output_type": "execute_result",
          "data": {
            "text/html": [
              "<div>\n",
              "<style scoped>\n",
              "    .dataframe tbody tr th:only-of-type {\n",
              "        vertical-align: middle;\n",
              "    }\n",
              "\n",
              "    .dataframe tbody tr th {\n",
              "        vertical-align: top;\n",
              "    }\n",
              "\n",
              "    .dataframe thead th {\n",
              "        text-align: right;\n",
              "    }\n",
              "</style>\n",
              "<table border=\"1\" class=\"dataframe\">\n",
              "  <thead>\n",
              "    <tr style=\"text-align: right;\">\n",
              "      <th></th>\n",
              "    </tr>\n",
              "  </thead>\n",
              "  <tbody>\n",
              "  </tbody>\n",
              "</table>\n",
              "</div>"
            ],
            "text/plain": [
              "Empty DataFrame\n",
              "Columns: []\n",
              "Index: []"
            ]
          },
          "metadata": {},
          "execution_count": 75
        }
      ]
    },
    {
      "cell_type": "markdown",
      "metadata": {
        "id": "QrFrIOJS80Vb"
      },
      "source": [
        "Decision Tree"
      ]
    },
    {
      "cell_type": "code",
      "metadata": {
        "colab": {
          "base_uri": "https://localhost:8080/",
          "height": 117
        },
        "id": "rIqIYVrNQjvQ",
        "outputId": "9daaecad-242c-4371-a2b1-232e33cbbffe"
      },
      "source": [
        "from sklearn.tree import DecisionTreeRegressor\n",
        "samples =[]\n",
        "rmse=[]\n",
        "mae = []\n",
        "r2score =[]\n",
        "for train_index, test_index in tscv.split(X):\n",
        " \n",
        "  X_train, X_test = X[train_index], X[test_index]\n",
        "  y_train, y_test = y[train_index], y[test_index]\n",
        "  dtregressor = DecisionTreeRegressor()\n",
        "  dtregressor.fit(X_train,y_train)\n",
        "  y_pred = regressor.predict(X_test)\n",
        "  rmse.append(math.sqrt(mean_squared_error(y_test, y_pred)))\n",
        "  mae.append(mean_absolute_error(y_test, y_pred))\n",
        "  r2score.append(r2_score(y_test, y_pred))\n",
        "  samples.append(len(train_index))\n",
        "for i in range(len(samples)):\n",
        "  print(\"Samples:\",samples[i],\"RMSE\",rmse[i]) \n",
        "\n",
        "\n",
        "method.append('DecisionTreeRegressor')\n",
        "encoder.append('Label')\n",
        "update()"
      ],
      "execution_count": null,
      "outputs": [
        {
          "output_type": "stream",
          "name": "stdout",
          "text": [
            "Samples: 498 RMSE 0.38329688973975695\n",
            "Samples: 995 RMSE 0.36328216030979754\n",
            "Samples: 1492 RMSE 0.7879048697458231\n",
            "Samples: 1989 RMSE 0.5689880600606996\n",
            "Samples: 2486 RMSE 0.7216369739555046\n"
          ]
        },
        {
          "output_type": "execute_result",
          "data": {
            "text/html": [
              "<div>\n",
              "<style scoped>\n",
              "    .dataframe tbody tr th:only-of-type {\n",
              "        vertical-align: middle;\n",
              "    }\n",
              "\n",
              "    .dataframe tbody tr th {\n",
              "        vertical-align: top;\n",
              "    }\n",
              "\n",
              "    .dataframe thead th {\n",
              "        text-align: right;\n",
              "    }\n",
              "</style>\n",
              "<table border=\"1\" class=\"dataframe\">\n",
              "  <thead>\n",
              "    <tr style=\"text-align: right;\">\n",
              "      <th></th>\n",
              "    </tr>\n",
              "  </thead>\n",
              "  <tbody>\n",
              "  </tbody>\n",
              "</table>\n",
              "</div>"
            ],
            "text/plain": [
              "Empty DataFrame\n",
              "Columns: []\n",
              "Index: []"
            ]
          },
          "metadata": {},
          "execution_count": 76
        }
      ]
    },
    {
      "cell_type": "markdown",
      "metadata": {
        "id": "pV_-ZOns826W"
      },
      "source": [
        "Random Forest"
      ]
    },
    {
      "cell_type": "code",
      "metadata": {
        "colab": {
          "base_uri": "https://localhost:8080/",
          "height": 117
        },
        "id": "DMikyRxyUOzQ",
        "outputId": "35e2e8e7-fd93-4100-a496-db17fc5a52cc"
      },
      "source": [
        "from sklearn.ensemble import RandomForestRegressor\n",
        "samples =[]\n",
        "rmse=[]\n",
        "mae =[]\n",
        "r2score=[]\n",
        "for train_index, test_index in tscv.split(X):\n",
        " \n",
        "  X_train, X_test = X[train_index], X[test_index]\n",
        "  y_train, y_test = y[train_index], y[test_index]\n",
        "  regressor = RandomForestRegressor(n_estimators = 10, random_state = 0)\n",
        "  regressor.fit(X_train, y_train)\n",
        "  y_pred = regressor.predict(X_test)\n",
        "  rmse.append(math.sqrt(mean_squared_error(y_test, y_pred)))\n",
        "  mae.append(mean_absolute_error(y_test, y_pred))\n",
        "  r2score.append(r2_score(y_test, y_pred))\n",
        "  samples.append(len(train_index))\n",
        "for i in range(len(samples)):\n",
        "  print(\"Samples:\",samples[i],\"RMSE\",rmse[i]) \n",
        "\n",
        "\n",
        "method.append('RandomForestRegressor')\n",
        "encoder.append('Label')\n",
        "update()\n"
      ],
      "execution_count": null,
      "outputs": [
        {
          "output_type": "stream",
          "name": "stdout",
          "text": [
            "Samples: 498 RMSE 0.31996625195602907\n",
            "Samples: 995 RMSE 0.4839446349736958\n",
            "Samples: 1492 RMSE 0.9997733145464133\n",
            "Samples: 1989 RMSE 0.37128518072862965\n",
            "Samples: 2486 RMSE 0.294549081914819\n"
          ]
        },
        {
          "output_type": "execute_result",
          "data": {
            "text/html": [
              "<div>\n",
              "<style scoped>\n",
              "    .dataframe tbody tr th:only-of-type {\n",
              "        vertical-align: middle;\n",
              "    }\n",
              "\n",
              "    .dataframe tbody tr th {\n",
              "        vertical-align: top;\n",
              "    }\n",
              "\n",
              "    .dataframe thead th {\n",
              "        text-align: right;\n",
              "    }\n",
              "</style>\n",
              "<table border=\"1\" class=\"dataframe\">\n",
              "  <thead>\n",
              "    <tr style=\"text-align: right;\">\n",
              "      <th></th>\n",
              "    </tr>\n",
              "  </thead>\n",
              "  <tbody>\n",
              "  </tbody>\n",
              "</table>\n",
              "</div>"
            ],
            "text/plain": [
              "Empty DataFrame\n",
              "Columns: []\n",
              "Index: []"
            ]
          },
          "metadata": {},
          "execution_count": 77
        }
      ]
    },
    {
      "cell_type": "markdown",
      "metadata": {
        "id": "VGohKjpA85UK"
      },
      "source": [
        "Support Vector Regression"
      ]
    },
    {
      "cell_type": "code",
      "metadata": {
        "id": "rOQxvQyip69_"
      },
      "source": [
        "# from sklearn.svm import SVR\n",
        "\n",
        "# samples =[]\n",
        "# rmse=[]\n",
        "# mae =[]\n",
        "# r2score =[]\n",
        "# for train_index, test_index in tscv.split(X):\n",
        " \n",
        "#   X_train, X_test = X[train_index], X[test_index]\n",
        "#   y_train, y_test = y[train_index], y[test_index]\n",
        "#   regressor = SVR(kernel = 'linear' )\n",
        "#   regressor.fit(X_train, y_train)\n",
        "#   y_pred = regressor.predict(X_test)\n",
        "#   rmse.append(math.sqrt(mean_squared_error(y_test, y_pred)))\n",
        "#   mae.append(mean_absolute_error(y_test, y_pred))\n",
        "#   r2score.append(r2_score(y_test, y_pred))\n",
        "#   samples.append(len(train_index))\n",
        "# for i in range(len(samples)):\n",
        "#   print(\"Samples:\",samples[i],\"RMSE\",rmse[i]) \n",
        "\n",
        "# method.append('SVR')\n",
        "# encoder.append('Label')\n",
        "# update()"
      ],
      "execution_count": null,
      "outputs": []
    },
    {
      "cell_type": "markdown",
      "metadata": {
        "id": "hM9u4Xu78-I2"
      },
      "source": [
        "KNeighborsRegressor"
      ]
    },
    {
      "cell_type": "code",
      "metadata": {
        "colab": {
          "base_uri": "https://localhost:8080/",
          "height": 117
        },
        "id": "dGSMsJh_1-bA",
        "outputId": "5a150653-def2-48dc-e683-21e406078b1b"
      },
      "source": [
        "from sklearn.neighbors import KNeighborsRegressor\n",
        "samples =[]\n",
        "rmse=[]\n",
        "mae=[]\n",
        "r2score=[]\n",
        "for train_index, test_index in tscv.split(X):\n",
        " \n",
        "  X_train, X_test = X[train_index], X[test_index]\n",
        "  y_train, y_test = y[train_index], y[test_index]\n",
        "  regressor = KNeighborsRegressor()\n",
        "  regressor.fit(X_train, y_train)\n",
        "  y_pred = regressor.predict(X_test)\n",
        "  rmse.append(math.sqrt(mean_squared_error(y_test, y_pred)))\n",
        "  mae.append(mean_absolute_error(y_test, y_pred))\n",
        "  r2score.append(r2_score(y_test, y_pred))\n",
        "  samples.append(len(train_index))\n",
        "for i in range(len(samples)):\n",
        "  print(\"Samples:\",samples[i],\"RMSE\",rmse[i]) \n",
        "\n",
        "method.append('KNeighborsRegressor')\n",
        "encoder.append('Label')\n",
        "update()"
      ],
      "execution_count": null,
      "outputs": [
        {
          "output_type": "stream",
          "name": "stdout",
          "text": [
            "Samples: 498 RMSE 0.3771550349541429\n",
            "Samples: 995 RMSE 0.5860946773245136\n",
            "Samples: 1492 RMSE 1.2707707713609961\n",
            "Samples: 1989 RMSE 0.7395995086287651\n",
            "Samples: 2486 RMSE 0.9243802033023104\n"
          ]
        },
        {
          "output_type": "execute_result",
          "data": {
            "text/html": [
              "<div>\n",
              "<style scoped>\n",
              "    .dataframe tbody tr th:only-of-type {\n",
              "        vertical-align: middle;\n",
              "    }\n",
              "\n",
              "    .dataframe tbody tr th {\n",
              "        vertical-align: top;\n",
              "    }\n",
              "\n",
              "    .dataframe thead th {\n",
              "        text-align: right;\n",
              "    }\n",
              "</style>\n",
              "<table border=\"1\" class=\"dataframe\">\n",
              "  <thead>\n",
              "    <tr style=\"text-align: right;\">\n",
              "      <th></th>\n",
              "    </tr>\n",
              "  </thead>\n",
              "  <tbody>\n",
              "  </tbody>\n",
              "</table>\n",
              "</div>"
            ],
            "text/plain": [
              "Empty DataFrame\n",
              "Columns: []\n",
              "Index: []"
            ]
          },
          "metadata": {},
          "execution_count": 79
        }
      ]
    },
    {
      "cell_type": "code",
      "metadata": {
        "colab": {
          "base_uri": "https://localhost:8080/",
          "height": 235
        },
        "id": "_8-oB-Yhi56H",
        "outputId": "81437643-66e7-418c-98fb-e5ae32255bac"
      },
      "source": [
        "df.head()"
      ],
      "execution_count": null,
      "outputs": [
        {
          "output_type": "execute_result",
          "data": {
            "text/html": [
              "<div>\n",
              "<style scoped>\n",
              "    .dataframe tbody tr th:only-of-type {\n",
              "        vertical-align: middle;\n",
              "    }\n",
              "\n",
              "    .dataframe tbody tr th {\n",
              "        vertical-align: top;\n",
              "    }\n",
              "\n",
              "    .dataframe thead th {\n",
              "        text-align: right;\n",
              "    }\n",
              "</style>\n",
              "<table border=\"1\" class=\"dataframe\">\n",
              "  <thead>\n",
              "    <tr style=\"text-align: right;\">\n",
              "      <th></th>\n",
              "      <th>Year</th>\n",
              "      <th>StockName</th>\n",
              "      <th>Positive</th>\n",
              "      <th>Negative</th>\n",
              "      <th>Neutral</th>\n",
              "      <th>Close</th>\n",
              "      <th>Volume</th>\n",
              "    </tr>\n",
              "    <tr>\n",
              "      <th>Date</th>\n",
              "      <th></th>\n",
              "      <th></th>\n",
              "      <th></th>\n",
              "      <th></th>\n",
              "      <th></th>\n",
              "      <th></th>\n",
              "      <th></th>\n",
              "    </tr>\n",
              "  </thead>\n",
              "  <tbody>\n",
              "    <tr>\n",
              "      <th>2020-01-01</th>\n",
              "      <td>0</td>\n",
              "      <td>0</td>\n",
              "      <td>10</td>\n",
              "      <td>2</td>\n",
              "      <td>8</td>\n",
              "      <td>-0.866296</td>\n",
              "      <td>1.426319</td>\n",
              "    </tr>\n",
              "    <tr>\n",
              "      <th>2020-01-01</th>\n",
              "      <td>0</td>\n",
              "      <td>1</td>\n",
              "      <td>9</td>\n",
              "      <td>0</td>\n",
              "      <td>11</td>\n",
              "      <td>-0.374931</td>\n",
              "      <td>-0.602748</td>\n",
              "    </tr>\n",
              "    <tr>\n",
              "      <th>2020-01-01</th>\n",
              "      <td>0</td>\n",
              "      <td>4</td>\n",
              "      <td>17</td>\n",
              "      <td>3</td>\n",
              "      <td>3</td>\n",
              "      <td>-0.803307</td>\n",
              "      <td>-0.151065</td>\n",
              "    </tr>\n",
              "    <tr>\n",
              "      <th>2020-01-01</th>\n",
              "      <td>0</td>\n",
              "      <td>2</td>\n",
              "      <td>1</td>\n",
              "      <td>0</td>\n",
              "      <td>0</td>\n",
              "      <td>-0.953099</td>\n",
              "      <td>-0.582400</td>\n",
              "    </tr>\n",
              "    <tr>\n",
              "      <th>2020-01-01</th>\n",
              "      <td>0</td>\n",
              "      <td>3</td>\n",
              "      <td>1</td>\n",
              "      <td>0</td>\n",
              "      <td>1</td>\n",
              "      <td>-0.661423</td>\n",
              "      <td>-0.875927</td>\n",
              "    </tr>\n",
              "  </tbody>\n",
              "</table>\n",
              "</div>"
            ],
            "text/plain": [
              "            Year  StockName  Positive  Negative  Neutral     Close    Volume\n",
              "Date                                                                        \n",
              "2020-01-01     0          0        10         2        8 -0.866296  1.426319\n",
              "2020-01-01     0          1         9         0       11 -0.374931 -0.602748\n",
              "2020-01-01     0          4        17         3        3 -0.803307 -0.151065\n",
              "2020-01-01     0          2         1         0        0 -0.953099 -0.582400\n",
              "2020-01-01     0          3         1         0        1 -0.661423 -0.875927"
            ]
          },
          "metadata": {},
          "execution_count": 80
        }
      ]
    },
    {
      "cell_type": "code",
      "metadata": {
        "id": "oywQPzZLrMtT"
      },
      "source": [
        ""
      ],
      "execution_count": null,
      "outputs": []
    },
    {
      "cell_type": "markdown",
      "metadata": {
        "id": "WZ85xUBmrZz9"
      },
      "source": [
        "# Using Column Encoder"
      ]
    },
    {
      "cell_type": "code",
      "metadata": {
        "colab": {
          "base_uri": "https://localhost:8080/",
          "height": 235
        },
        "id": "GbYXOU4bwFJ1",
        "outputId": "aaa37ba6-5ea5-4085-8274-17e054c7c273"
      },
      "source": [
        "# df = pd.read_csv(\"/content/drive/MyDrive/Dipak/Internship/Technocolab/Twitter_stock_final_dataset.csv\")\n",
        "# df[\"Date\"] = pd.to_datetime(df[['Day','Month','Year']])\n",
        "# df.index=df.Date\n",
        "# df.drop(['Day','Month','Year','Day_of_week','Date','Total Tweets','Open','High','Low','Volume'], axis=1, inplace=True)\n",
        "d = pd.DataFrame()\n",
        "d = pd.get_dummies(df.StockName, prefix=None, prefix_sep='_', dummy_na=False)\n",
        "df1 = pd.concat([df,d], axis=1)\n",
        "df1.drop(['StockName'], axis=1, inplace=True)\n",
        "# d = pd.get_dummies(df.Year, prefix=None, prefix_sep='_', dummy_na=False)\n",
        "# df1 = pd.concat([df,d], axis=1)\n",
        "d = pd.DataFrame()\n",
        "d = pd.get_dummies(df1.Year, prefix=None, prefix_sep='_', dummy_na=False)\n",
        "df1 = pd.concat([df1,d], axis=1)\n",
        "df1.drop(['Year'], axis=1, inplace=True)\n",
        "\n",
        "df1.head()"
      ],
      "execution_count": null,
      "outputs": [
        {
          "output_type": "execute_result",
          "data": {
            "text/html": [
              "<div>\n",
              "<style scoped>\n",
              "    .dataframe tbody tr th:only-of-type {\n",
              "        vertical-align: middle;\n",
              "    }\n",
              "\n",
              "    .dataframe tbody tr th {\n",
              "        vertical-align: top;\n",
              "    }\n",
              "\n",
              "    .dataframe thead th {\n",
              "        text-align: right;\n",
              "    }\n",
              "</style>\n",
              "<table border=\"1\" class=\"dataframe\">\n",
              "  <thead>\n",
              "    <tr style=\"text-align: right;\">\n",
              "      <th></th>\n",
              "      <th>Positive</th>\n",
              "      <th>Negative</th>\n",
              "      <th>Neutral</th>\n",
              "      <th>Close</th>\n",
              "      <th>Volume</th>\n",
              "      <th>0</th>\n",
              "      <th>1</th>\n",
              "      <th>2</th>\n",
              "      <th>3</th>\n",
              "      <th>4</th>\n",
              "      <th>0</th>\n",
              "      <th>1</th>\n",
              "    </tr>\n",
              "    <tr>\n",
              "      <th>Date</th>\n",
              "      <th></th>\n",
              "      <th></th>\n",
              "      <th></th>\n",
              "      <th></th>\n",
              "      <th></th>\n",
              "      <th></th>\n",
              "      <th></th>\n",
              "      <th></th>\n",
              "      <th></th>\n",
              "      <th></th>\n",
              "      <th></th>\n",
              "      <th></th>\n",
              "    </tr>\n",
              "  </thead>\n",
              "  <tbody>\n",
              "    <tr>\n",
              "      <th>2020-01-01</th>\n",
              "      <td>10</td>\n",
              "      <td>2</td>\n",
              "      <td>8</td>\n",
              "      <td>-0.866296</td>\n",
              "      <td>1.426319</td>\n",
              "      <td>1</td>\n",
              "      <td>0</td>\n",
              "      <td>0</td>\n",
              "      <td>0</td>\n",
              "      <td>0</td>\n",
              "      <td>1</td>\n",
              "      <td>0</td>\n",
              "    </tr>\n",
              "    <tr>\n",
              "      <th>2020-01-01</th>\n",
              "      <td>9</td>\n",
              "      <td>0</td>\n",
              "      <td>11</td>\n",
              "      <td>-0.374931</td>\n",
              "      <td>-0.602748</td>\n",
              "      <td>0</td>\n",
              "      <td>1</td>\n",
              "      <td>0</td>\n",
              "      <td>0</td>\n",
              "      <td>0</td>\n",
              "      <td>1</td>\n",
              "      <td>0</td>\n",
              "    </tr>\n",
              "    <tr>\n",
              "      <th>2020-01-01</th>\n",
              "      <td>17</td>\n",
              "      <td>3</td>\n",
              "      <td>3</td>\n",
              "      <td>-0.803307</td>\n",
              "      <td>-0.151065</td>\n",
              "      <td>0</td>\n",
              "      <td>0</td>\n",
              "      <td>0</td>\n",
              "      <td>0</td>\n",
              "      <td>1</td>\n",
              "      <td>1</td>\n",
              "      <td>0</td>\n",
              "    </tr>\n",
              "    <tr>\n",
              "      <th>2020-01-01</th>\n",
              "      <td>1</td>\n",
              "      <td>0</td>\n",
              "      <td>0</td>\n",
              "      <td>-0.953099</td>\n",
              "      <td>-0.582400</td>\n",
              "      <td>0</td>\n",
              "      <td>0</td>\n",
              "      <td>1</td>\n",
              "      <td>0</td>\n",
              "      <td>0</td>\n",
              "      <td>1</td>\n",
              "      <td>0</td>\n",
              "    </tr>\n",
              "    <tr>\n",
              "      <th>2020-01-01</th>\n",
              "      <td>1</td>\n",
              "      <td>0</td>\n",
              "      <td>1</td>\n",
              "      <td>-0.661423</td>\n",
              "      <td>-0.875927</td>\n",
              "      <td>0</td>\n",
              "      <td>0</td>\n",
              "      <td>0</td>\n",
              "      <td>1</td>\n",
              "      <td>0</td>\n",
              "      <td>1</td>\n",
              "      <td>0</td>\n",
              "    </tr>\n",
              "  </tbody>\n",
              "</table>\n",
              "</div>"
            ],
            "text/plain": [
              "            Positive  Negative  Neutral     Close    Volume  ...  2  3  4  0  1\n",
              "Date                                                         ...               \n",
              "2020-01-01        10         2        8 -0.866296  1.426319  ...  0  0  0  1  0\n",
              "2020-01-01         9         0       11 -0.374931 -0.602748  ...  0  0  0  1  0\n",
              "2020-01-01        17         3        3 -0.803307 -0.151065  ...  0  0  1  1  0\n",
              "2020-01-01         1         0        0 -0.953099 -0.582400  ...  1  0  0  1  0\n",
              "2020-01-01         1         0        1 -0.661423 -0.875927  ...  0  1  0  1  0\n",
              "\n",
              "[5 rows x 12 columns]"
            ]
          },
          "metadata": {},
          "execution_count": 81
        }
      ]
    },
    {
      "cell_type": "code",
      "metadata": {
        "id": "tzKIHSY8cRt1"
      },
      "source": [
        ""
      ],
      "execution_count": null,
      "outputs": []
    },
    {
      "cell_type": "markdown",
      "metadata": {
        "id": "KPlMbnBu9Gg2"
      },
      "source": [
        "## Linear Regression"
      ]
    },
    {
      "cell_type": "code",
      "metadata": {
        "colab": {
          "base_uri": "https://localhost:8080/",
          "height": 134
        },
        "id": "4S3QbZPFxN-A",
        "outputId": "d3204d0c-0a6e-4a4b-96b7-072a2350e977"
      },
      "source": [
        "from sklearn.model_selection import TimeSeriesSplit\n",
        "tscv = TimeSeriesSplit()\n",
        "print(tscv)\n",
        "samples=[]\n",
        "mae=[]\n",
        "rmse=[]\n",
        "r2score=[]\n",
        "X = np.array(df1.drop([\"Close\"],1))\n",
        "y = np.array(df1.Close)\n",
        "for train_index, test_index in tscv.split(X):\n",
        " \n",
        "  X_train, X_test = X[train_index], X[test_index]\n",
        "  y_train, y_test = y[train_index], y[test_index]\n",
        "  regressor = LinearRegression()\n",
        "  regressor.fit(X_train,y_train)\n",
        "  y_pred = regressor.predict(X_test)\n",
        "  rmse.append(math.sqrt(mean_squared_error(y_test, y_pred)))\n",
        "  mae.append(mean_absolute_error(y_test, y_pred))\n",
        "  r2score.append(r2_score(y_test, y_pred))\n",
        "  samples.append(len(train_index))\n",
        "for i in range(len(samples)):\n",
        "  print(\"Samples:\",samples[i],\"RMSE\",rmse[i],\"  Rsquared\",r2score[i]) \n",
        "\n",
        "method.append('LinearReression')\n",
        "\n",
        "encoder.append('Column')\n",
        "update()"
      ],
      "execution_count": null,
      "outputs": [
        {
          "output_type": "stream",
          "name": "stdout",
          "text": [
            "TimeSeriesSplit(max_train_size=None, n_splits=5)\n",
            "Samples: 498 RMSE 0.31525052297018424   Rsquared 0.1790306603118158\n",
            "Samples: 995 RMSE 0.5568768482064294   Rsquared 0.006347740325476692\n",
            "Samples: 1492 RMSE 1.2158012422168938   Rsquared 0.16589582499339828\n",
            "Samples: 1989 RMSE 0.5220689606521594   Rsquared 0.7800755230241011\n",
            "Samples: 2486 RMSE 0.5705741591158597   Rsquared 0.7341046824545463\n"
          ]
        },
        {
          "output_type": "execute_result",
          "data": {
            "text/html": [
              "<div>\n",
              "<style scoped>\n",
              "    .dataframe tbody tr th:only-of-type {\n",
              "        vertical-align: middle;\n",
              "    }\n",
              "\n",
              "    .dataframe tbody tr th {\n",
              "        vertical-align: top;\n",
              "    }\n",
              "\n",
              "    .dataframe thead th {\n",
              "        text-align: right;\n",
              "    }\n",
              "</style>\n",
              "<table border=\"1\" class=\"dataframe\">\n",
              "  <thead>\n",
              "    <tr style=\"text-align: right;\">\n",
              "      <th></th>\n",
              "    </tr>\n",
              "  </thead>\n",
              "  <tbody>\n",
              "  </tbody>\n",
              "</table>\n",
              "</div>"
            ],
            "text/plain": [
              "Empty DataFrame\n",
              "Columns: []\n",
              "Index: []"
            ]
          },
          "metadata": {},
          "execution_count": 82
        }
      ]
    },
    {
      "cell_type": "markdown",
      "metadata": {
        "id": "Lt3iS9V79Kbg"
      },
      "source": [
        "Decision Tree"
      ]
    },
    {
      "cell_type": "code",
      "metadata": {
        "colab": {
          "base_uri": "https://localhost:8080/",
          "height": 117
        },
        "id": "MXjECWVO3bT_",
        "outputId": "8ca5e408-7889-4b88-d6de-b0781c8337a8"
      },
      "source": [
        "from sklearn.tree import DecisionTreeRegressor\n",
        "samples =[]\n",
        "rmse=[]\n",
        "mae =[]\n",
        "r2score=[]\n",
        "for train_index, test_index in tscv.split(X):\n",
        " \n",
        "  X_train, X_test = X[train_index], X[test_index]\n",
        "  y_train, y_test = y[train_index], y[test_index]\n",
        "  dtregressor = DecisionTreeRegressor()\n",
        "  dtregressor.fit(X_train,y_train)\n",
        "  y_pred = regressor.predict(X_test)\n",
        "  rmse.append(math.sqrt(mean_squared_error(y_test, y_pred)))\n",
        "  mae.append(mean_absolute_error(y_test, y_pred))\n",
        "  r2score.append(r2_score(y_test, y_pred))\n",
        "  samples.append(len(train_index))\n",
        "for i in range(len(samples)):\n",
        "  print(\"Samples:\",samples[i],\"RMSE\",rmse[i]) \n",
        "\n",
        "method.append('DecisionTreeRegressor')\n",
        "\n",
        "encoder.append('Column')\n",
        "update()"
      ],
      "execution_count": null,
      "outputs": [
        {
          "output_type": "stream",
          "name": "stdout",
          "text": [
            "Samples: 498 RMSE 0.3969403915323369\n",
            "Samples: 995 RMSE 0.30385353667216547\n",
            "Samples: 1492 RMSE 0.689515558229528\n",
            "Samples: 1989 RMSE 0.44320713190787026\n",
            "Samples: 2486 RMSE 0.5705741591158597\n"
          ]
        },
        {
          "output_type": "execute_result",
          "data": {
            "text/html": [
              "<div>\n",
              "<style scoped>\n",
              "    .dataframe tbody tr th:only-of-type {\n",
              "        vertical-align: middle;\n",
              "    }\n",
              "\n",
              "    .dataframe tbody tr th {\n",
              "        vertical-align: top;\n",
              "    }\n",
              "\n",
              "    .dataframe thead th {\n",
              "        text-align: right;\n",
              "    }\n",
              "</style>\n",
              "<table border=\"1\" class=\"dataframe\">\n",
              "  <thead>\n",
              "    <tr style=\"text-align: right;\">\n",
              "      <th></th>\n",
              "    </tr>\n",
              "  </thead>\n",
              "  <tbody>\n",
              "  </tbody>\n",
              "</table>\n",
              "</div>"
            ],
            "text/plain": [
              "Empty DataFrame\n",
              "Columns: []\n",
              "Index: []"
            ]
          },
          "metadata": {},
          "execution_count": 83
        }
      ]
    },
    {
      "cell_type": "markdown",
      "metadata": {
        "id": "LHMv_V_F9M8r"
      },
      "source": [
        "## Random Forest"
      ]
    },
    {
      "cell_type": "code",
      "metadata": {
        "colab": {
          "base_uri": "https://localhost:8080/",
          "height": 117
        },
        "id": "KOz7bH0a4Ump",
        "outputId": "8d99bdbc-89d2-4a50-84c2-6c96dc35c98e"
      },
      "source": [
        "from sklearn.ensemble import RandomForestRegressor\n",
        "samples =[]\n",
        "rmse=[]\n",
        "mae =[]\n",
        "r2score=[]\n",
        "for train_index, test_index in tscv.split(X):\n",
        " \n",
        "  X_train, X_test = X[train_index], X[test_index]\n",
        "  y_train, y_test = y[train_index], y[test_index]\n",
        "  regressor = RandomForestRegressor(n_estimators = 10, random_state = 0)\n",
        "  regressor.fit(X_train, y_train)\n",
        "  y_pred = regressor.predict(X_test)\n",
        "  rmse.append(math.sqrt(mean_squared_error(y_test, y_pred)))\n",
        "  mae.append(mean_absolute_error(y_test, y_pred))\n",
        "  r2score.append(r2_score(y_test, y_pred))\n",
        "  samples.append(len(train_index))\n",
        "for i in range(len(samples)):\n",
        "  print(\"Samples:\",samples[i],\"RMSE\",rmse[i]) \n",
        "\n",
        "method.append('RandomForestRegressor')\n",
        "\n",
        "encoder.append('Column')\n",
        "update()"
      ],
      "execution_count": null,
      "outputs": [
        {
          "output_type": "stream",
          "name": "stdout",
          "text": [
            "Samples: 498 RMSE 0.31620590105180985\n",
            "Samples: 995 RMSE 0.48169223112059334\n",
            "Samples: 1492 RMSE 0.9975243184107243\n",
            "Samples: 1989 RMSE 0.37011431431967834\n",
            "Samples: 2486 RMSE 0.2895465644355905\n"
          ]
        },
        {
          "output_type": "execute_result",
          "data": {
            "text/html": [
              "<div>\n",
              "<style scoped>\n",
              "    .dataframe tbody tr th:only-of-type {\n",
              "        vertical-align: middle;\n",
              "    }\n",
              "\n",
              "    .dataframe tbody tr th {\n",
              "        vertical-align: top;\n",
              "    }\n",
              "\n",
              "    .dataframe thead th {\n",
              "        text-align: right;\n",
              "    }\n",
              "</style>\n",
              "<table border=\"1\" class=\"dataframe\">\n",
              "  <thead>\n",
              "    <tr style=\"text-align: right;\">\n",
              "      <th></th>\n",
              "    </tr>\n",
              "  </thead>\n",
              "  <tbody>\n",
              "  </tbody>\n",
              "</table>\n",
              "</div>"
            ],
            "text/plain": [
              "Empty DataFrame\n",
              "Columns: []\n",
              "Index: []"
            ]
          },
          "metadata": {},
          "execution_count": 84
        }
      ]
    },
    {
      "cell_type": "markdown",
      "metadata": {
        "id": "VFk81cfH9Rw2"
      },
      "source": [
        "## Support vector regression"
      ]
    },
    {
      "cell_type": "code",
      "metadata": {
        "id": "D3wO__rt4dFM"
      },
      "source": [
        "# from sklearn.svm import SVR\n",
        "\n",
        "# samples =[]\n",
        "# rmse=[]\n",
        "# mae =[]\n",
        "# r2score =[]\n",
        "# for train_index, test_index in tscv.split(X):\n",
        " \n",
        "#   X_train, X_test = X[train_index], X[test_index]\n",
        "#   y_train, y_test = y[train_index], y[test_index]\n",
        "#   regressor = SVR(kernel = 'linear' )\n",
        "#   regressor.fit(X_train, y_train)\n",
        "#   y_pred = regressor.predict(X_test)\n",
        "#   rmse.append(math.sqrt(mean_squared_error(y_test, y_pred)))\n",
        "#   mae.append(mean_absolute_error(y_test, y_pred))\n",
        "#   r2score.append(r2_score(y_test, y_pred))\n",
        "#   samples.append(len(train_index))\n",
        "# for i in range(len(samples)):\n",
        "#   print(\"Samples:\",samples[i],\"RMSE\",rmse[i]) \n",
        "\n",
        "\n",
        "# method.append('SVR')\n",
        "\n",
        "# encoder.append('Column')\n",
        "# update()"
      ],
      "execution_count": null,
      "outputs": []
    },
    {
      "cell_type": "markdown",
      "metadata": {
        "id": "lhiDeSfi9VpC"
      },
      "source": [
        "## KNeighborsRegressor"
      ]
    },
    {
      "cell_type": "code",
      "metadata": {
        "colab": {
          "base_uri": "https://localhost:8080/",
          "height": 117
        },
        "id": "ACGq8YAD4gvA",
        "outputId": "57be59b2-1169-4512-bd3e-729a941dbf14"
      },
      "source": [
        "from sklearn.neighbors import KNeighborsRegressor\n",
        "samples =[]\n",
        "rmse=[]\n",
        "mae=[]\n",
        "r2score=[]\n",
        "for train_index, test_index in tscv.split(X):\n",
        " \n",
        "  X_train, X_test = X[train_index], X[test_index]\n",
        "  y_train, y_test = y[train_index], y[test_index]\n",
        "  regressor = KNeighborsRegressor()\n",
        "  regressor.fit(X_train, y_train)\n",
        "  y_pred = regressor.predict(X_test)\n",
        "  rmse.append(math.sqrt(mean_squared_error(y_test, y_pred)))\n",
        "  mae.append(mean_absolute_error(y_test, y_pred))\n",
        "  r2score.append(r2_score(y_test, y_pred))\n",
        "  samples.append(len(train_index))\n",
        "for i in range(len(samples)):\n",
        "  print(\"Samples:\",samples[i],\"RMSE\",rmse[i], \" Rsquared\",r2score[i]) \n",
        "\n",
        "method.append('KNeighborsRegressor')\n",
        "\n",
        "encoder.append('Column')\n",
        "update()"
      ],
      "execution_count": null,
      "outputs": [
        {
          "output_type": "stream",
          "name": "stdout",
          "text": [
            "Samples: 498 RMSE 0.36393354069911865  Rsquared -0.09410618237301027\n",
            "Samples: 995 RMSE 0.5819381645595472  Rsquared -0.08510003851496628\n",
            "Samples: 1492 RMSE 1.297235571381561  Rsquared 0.050417226822954575\n",
            "Samples: 1989 RMSE 0.7703957186202867  Rsquared 0.5210992220425461\n",
            "Samples: 2486 RMSE 0.9628911025641482  Rsquared 0.24274728511586163\n"
          ]
        },
        {
          "output_type": "execute_result",
          "data": {
            "text/html": [
              "<div>\n",
              "<style scoped>\n",
              "    .dataframe tbody tr th:only-of-type {\n",
              "        vertical-align: middle;\n",
              "    }\n",
              "\n",
              "    .dataframe tbody tr th {\n",
              "        vertical-align: top;\n",
              "    }\n",
              "\n",
              "    .dataframe thead th {\n",
              "        text-align: right;\n",
              "    }\n",
              "</style>\n",
              "<table border=\"1\" class=\"dataframe\">\n",
              "  <thead>\n",
              "    <tr style=\"text-align: right;\">\n",
              "      <th></th>\n",
              "    </tr>\n",
              "  </thead>\n",
              "  <tbody>\n",
              "  </tbody>\n",
              "</table>\n",
              "</div>"
            ],
            "text/plain": [
              "Empty DataFrame\n",
              "Columns: []\n",
              "Index: []"
            ]
          },
          "metadata": {},
          "execution_count": 86
        }
      ]
    },
    {
      "cell_type": "code",
      "metadata": {
        "id": "P1cIu2Tx4oId"
      },
      "source": [
        "conclu[\"Model\"] = method\n",
        "conclu[\"Encoder\"] = encoder\n",
        "conclu[\"MAE\"] = mae1\n",
        "conclu[\"RMSE\"] = rmse1\n",
        "conclu[\"RSquared\"] = r2score1\n"
      ],
      "execution_count": null,
      "outputs": []
    },
    {
      "cell_type": "code",
      "metadata": {
        "colab": {
          "base_uri": "https://localhost:8080/",
          "height": 297
        },
        "id": "RCTQsWhZ7A5c",
        "outputId": "f290fd63-be82-4250-e005-092ea52d5214"
      },
      "source": [
        "conclu"
      ],
      "execution_count": null,
      "outputs": [
        {
          "output_type": "execute_result",
          "data": {
            "text/html": [
              "<div>\n",
              "<style scoped>\n",
              "    .dataframe tbody tr th:only-of-type {\n",
              "        vertical-align: middle;\n",
              "    }\n",
              "\n",
              "    .dataframe tbody tr th {\n",
              "        vertical-align: top;\n",
              "    }\n",
              "\n",
              "    .dataframe thead th {\n",
              "        text-align: right;\n",
              "    }\n",
              "</style>\n",
              "<table border=\"1\" class=\"dataframe\">\n",
              "  <thead>\n",
              "    <tr style=\"text-align: right;\">\n",
              "      <th></th>\n",
              "      <th>Model</th>\n",
              "      <th>Encoder</th>\n",
              "      <th>MAE</th>\n",
              "      <th>RMSE</th>\n",
              "      <th>RSquared</th>\n",
              "    </tr>\n",
              "  </thead>\n",
              "  <tbody>\n",
              "    <tr>\n",
              "      <th>0</th>\n",
              "      <td>LinearRegression</td>\n",
              "      <td>Label</td>\n",
              "      <td>0.467372</td>\n",
              "      <td>0.721637</td>\n",
              "      <td>0.574672</td>\n",
              "    </tr>\n",
              "    <tr>\n",
              "      <th>1</th>\n",
              "      <td>DecisionTreeRegressor</td>\n",
              "      <td>Label</td>\n",
              "      <td>0.467372</td>\n",
              "      <td>0.721637</td>\n",
              "      <td>0.574672</td>\n",
              "    </tr>\n",
              "    <tr>\n",
              "      <th>2</th>\n",
              "      <td>RandomForestRegressor</td>\n",
              "      <td>Label</td>\n",
              "      <td>0.240062</td>\n",
              "      <td>0.294549</td>\n",
              "      <td>0.929140</td>\n",
              "    </tr>\n",
              "    <tr>\n",
              "      <th>3</th>\n",
              "      <td>KNeighborsRegressor</td>\n",
              "      <td>Label</td>\n",
              "      <td>0.595342</td>\n",
              "      <td>0.924380</td>\n",
              "      <td>0.302109</td>\n",
              "    </tr>\n",
              "    <tr>\n",
              "      <th>4</th>\n",
              "      <td>LinearReression</td>\n",
              "      <td>Column</td>\n",
              "      <td>0.361678</td>\n",
              "      <td>0.570574</td>\n",
              "      <td>0.734105</td>\n",
              "    </tr>\n",
              "    <tr>\n",
              "      <th>5</th>\n",
              "      <td>DecisionTreeRegressor</td>\n",
              "      <td>Column</td>\n",
              "      <td>0.361678</td>\n",
              "      <td>0.570574</td>\n",
              "      <td>0.734105</td>\n",
              "    </tr>\n",
              "    <tr>\n",
              "      <th>6</th>\n",
              "      <td>RandomForestRegressor</td>\n",
              "      <td>Column</td>\n",
              "      <td>0.237836</td>\n",
              "      <td>0.289547</td>\n",
              "      <td>0.931526</td>\n",
              "    </tr>\n",
              "    <tr>\n",
              "      <th>7</th>\n",
              "      <td>KNeighborsRegressor</td>\n",
              "      <td>Column</td>\n",
              "      <td>0.589674</td>\n",
              "      <td>0.962891</td>\n",
              "      <td>0.242747</td>\n",
              "    </tr>\n",
              "  </tbody>\n",
              "</table>\n",
              "</div>"
            ],
            "text/plain": [
              "                   Model Encoder       MAE      RMSE  RSquared\n",
              "0       LinearRegression   Label  0.467372  0.721637  0.574672\n",
              "1  DecisionTreeRegressor   Label  0.467372  0.721637  0.574672\n",
              "2  RandomForestRegressor   Label  0.240062  0.294549  0.929140\n",
              "3    KNeighborsRegressor   Label  0.595342  0.924380  0.302109\n",
              "4        LinearReression  Column  0.361678  0.570574  0.734105\n",
              "5  DecisionTreeRegressor  Column  0.361678  0.570574  0.734105\n",
              "6  RandomForestRegressor  Column  0.237836  0.289547  0.931526\n",
              "7    KNeighborsRegressor  Column  0.589674  0.962891  0.242747"
            ]
          },
          "metadata": {},
          "execution_count": 88
        }
      ]
    },
    {
      "cell_type": "code",
      "metadata": {
        "id": "GdRnVk-Q7QmP"
      },
      "source": [
        ""
      ],
      "execution_count": null,
      "outputs": []
    },
    {
      "cell_type": "markdown",
      "metadata": {
        "id": "VgVgxhpHidFE"
      },
      "source": [
        "Random Forest Hyper Parameter tuning"
      ]
    },
    {
      "cell_type": "code",
      "metadata": {
        "colab": {
          "base_uri": "https://localhost:8080/"
        },
        "id": "Zbj1vFAwiGrt",
        "outputId": "6a9a41df-f796-418d-f001-181609b293c3"
      },
      "source": [
        "from sklearn.ensemble import RandomForestRegressor\n",
        "samples =[]\n",
        "rmse=[]\n",
        "mae =[]\n",
        "r2score=[]\n",
        "\n",
        " \n",
        "X_train, X_test = X[:2486], X[2486:]\n",
        "y_train, y_test = y[:2486], y[2486:]\n",
        "  \n",
        "regressor = RandomForestRegressor(n_estimators = 10, random_state = 0)\n",
        "regressor.fit(X_train, y_train)\n",
        "y_pred = regressor.predict(X_test)\n",
        "\n",
        "print(\"MAE\", mean_absolute_error(y_test, y_pred))\n",
        "print(\"RMSE\",np.sqrt(mean_squared_error(y_test, y_pred)))\n",
        "print(\"Rsquared\", r2_score(y_test, y_pred))\n",
        "\n",
        "\n"
      ],
      "execution_count": null,
      "outputs": [
        {
          "output_type": "stream",
          "name": "stdout",
          "text": [
            "MAE 0.23783584572195418\n",
            "RMSE 0.2895465644355905\n",
            "Rsquared 0.931526374357263\n"
          ]
        }
      ]
    },
    {
      "cell_type": "code",
      "metadata": {
        "id": "I6S_yYRAijSS"
      },
      "source": [
        "\n"
      ],
      "execution_count": null,
      "outputs": []
    },
    {
      "cell_type": "code",
      "metadata": {
        "id": "nNT4AcX1nBSW"
      },
      "source": [
        "# from sklearn.model_selection import RandomizedSearchCV\n",
        "# from sklearn.model_selection import GridSearchCV\n",
        "# from pprint import pprint\n",
        "\n",
        "\n",
        "# n_estimators = [5, 10, 15, 20, 25, 30, 35, 40]\n",
        "\n",
        "\n",
        "# max_features = ['auto', 'sqrt']\n",
        "\n",
        "# max_depth = [int(x) for x in np.linspace(10, 110, num = 11)]\n",
        "# max_depth.append(None)\n",
        "\n",
        "# min_samples_split = [2, 5, 10, 15,20]\n",
        "\n",
        "# min_samples_leaf = [1, 2, 4, 6]\n",
        "\n",
        "# bootstrap = [True, False]\n",
        "# # Create the random grid\n",
        "# random_grid = {'n_estimators': n_estimators,\n",
        "#                'max_features': max_features,\n",
        "#                'max_depth': max_depth,\n",
        "#                'min_samples_split': min_samples_split,\n",
        "#                'min_samples_leaf': min_samples_leaf,\n",
        "#                'bootstrap': bootstrap}\n",
        "# pprint(random_grid)\n",
        "# # Use the random grid to search for best hyperparameters\n",
        "# # First create the base model to tune\n",
        "# rf = RandomForestRegressor(random_state=1)\n",
        "# # Random search of parameters, using 3 fold cross validation, \n",
        "# # search across 100 different combinations, and use all available cores\n",
        "# rf_random = RandomizedSearchCV(estimator = rf, param_distributions = random_grid, n_iter = 100, cv = 10, verbose=2, random_state=1, n_jobs = -1)\n",
        "# # Fit the random search model\n",
        "# rf_random.fit(X_train, y_train)"
      ],
      "execution_count": null,
      "outputs": []
    },
    {
      "cell_type": "code",
      "metadata": {
        "id": "OZoAWI2q5lu6"
      },
      "source": [
        "# rf_random.best_params_\n",
        "# {'bootstrap': False,\n",
        "#  'max_depth': 60,\n",
        "#  'max_features': 'sqrt',\n",
        "#  'min_samples_leaf': 4,\n",
        "#  'min_samples_split': 15,\n",
        "#  'n_estimators': 35}"
      ],
      "execution_count": null,
      "outputs": []
    },
    {
      "cell_type": "code",
      "metadata": {
        "colab": {
          "base_uri": "https://localhost:8080/"
        },
        "id": "p7L3aOPZoL_B",
        "outputId": "f5b0e8f0-578c-4be2-8f7b-5367af859711"
      },
      "source": [
        "rf1 = RandomForestRegressor(bootstrap=False, max_depth=60, max_features='sqrt', min_samples_leaf=4, min_samples_split=15, n_estimators=35, random_state=1)\n",
        "rf1.fit(X_train, y_train)\n",
        "pred = rf1.predict(X_test)\n",
        "print(\"MAE:\", mean_absolute_error(pred, y_test))\n",
        "print(\"RMSE:\", mean_squared_error(pred, y_test))\n",
        "print(\"Rsquared:\",r2_score(pred, y_test))"
      ],
      "execution_count": null,
      "outputs": [
        {
          "output_type": "stream",
          "name": "stdout",
          "text": [
            "MAE: 0.24638938869415666\n",
            "RMSE: 0.09330450220716613\n",
            "Rsquared: 0.9302492773668559\n"
          ]
        }
      ]
    },
    {
      "cell_type": "markdown",
      "metadata": {
        "id": "WXCluBqryWFE"
      },
      "source": [
        "Grid Search CV"
      ]
    },
    {
      "cell_type": "code",
      "metadata": {
        "id": "QWB-tAFCooTF"
      },
      "source": [
        "# from sklearn.model_selection import GridSearchCV\n",
        "# param_grid = {\n",
        "#     'bootstrap': [True, False],\n",
        "#     'max_depth': [50,70, 90,110],\n",
        "#     'max_features': [2, 3],\n",
        "#     'min_samples_leaf': [ 4,6,8,10],\n",
        "#     'min_samples_split': [6,8, 10, 12,14],\n",
        "#     'n_estimators': [100, 200, 300, 1000,1200]\n",
        "# }\n",
        "# # Create a based model\n",
        "# rf_1 = RandomForestRegressor(random_state=1)\n",
        "# # Instantiate the grid search model\n",
        "# grid_search = GridSearchCV(estimator = rf_1, param_grid = param_grid, \n",
        "#                           cv = 2, n_jobs = -1, verbose = 2)\n",
        "# grid_search.fit(X_train,y_train)"
      ],
      "execution_count": null,
      "outputs": []
    },
    {
      "cell_type": "code",
      "metadata": {
        "id": "h17zmdwQyqyC"
      },
      "source": [
        "# grid_search.best_params_\n",
        "# {'bootstrap': True,\n",
        "#  'max_depth': 50,\n",
        "#  'max_features': 2,\n",
        "#  'min_samples_leaf': 8,\n",
        "#  'min_samples_split': 6,\n",
        "#  'n_estimators': 1200}"
      ],
      "execution_count": null,
      "outputs": []
    },
    {
      "cell_type": "code",
      "metadata": {
        "colab": {
          "base_uri": "https://localhost:8080/"
        },
        "id": "poEpx7fkzDUo",
        "outputId": "d20e4def-08fd-488d-995a-5167875f030a"
      },
      "source": [
        "rf_2 = RandomForestRegressor(bootstrap=True, max_depth=80, max_features='sqrt', min_samples_leaf=3, min_samples_split=8, n_estimators=1000, random_state=1)\n",
        "rf_2.fit(X_train, y_train)\n",
        "pred = rf_2.predict(X_test)\n",
        "print(\"MAE:\", mean_absolute_error(pred, y_test))\n",
        "print(\"RMSE:\", mean_squared_error(pred, y_test))\n",
        "print(\"Rsquared:\",r2_score(pred, y_test))"
      ],
      "execution_count": null,
      "outputs": [
        {
          "output_type": "stream",
          "name": "stdout",
          "text": [
            "MAE: 0.24034408064539275\n",
            "RMSE: 0.08615294457937551\n",
            "Rsquared: 0.9344356841230979\n"
          ]
        }
      ]
    },
    {
      "cell_type": "markdown",
      "metadata": {
        "id": "0qweECFGjjTk"
      },
      "source": [
        "Next Day Prediction"
      ]
    },
    {
      "cell_type": "code",
      "metadata": {
        "colab": {
          "base_uri": "https://localhost:8080/"
        },
        "id": "BtTH_Ef1j8AE",
        "outputId": "b6bd1721-d16a-42c8-a5c6-0fa08b402515"
      },
      "source": [
        "import os\n",
        "main_path = \"/content/drive/MyDrive/Dipak/Internship/Technocolab\"\n",
        "os.chdir(main_path)\n",
        "os.getcwd()\n",
        "from functions import *\n",
        "data, date, hashtag = scraper()\n",
        "df2 = data_cleaner(data, date, hashtag=hashtag)\n",
        "pred_data = df2[df2.Date == date]\n",
        "# Starting date: 2021-09-21\n",
        "# End date : 2021-09-22"
      ],
      "execution_count": null,
      "outputs": [
        {
          "output_type": "stream",
          "name": "stdout",
          "text": [
            "Enter staring date in YYYY-MM-DD format.2021-09-21\n",
            "Enter end date in YYYY-MM-DD fromat.2021-09-22\n",
            "Enter hashtag.TSLA\n",
            "[nltk_data] Downloading package stopwords to /root/nltk_data...\n",
            "[nltk_data]   Package stopwords is already up-to-date!\n",
            "[nltk_data] Downloading package vader_lexicon to /root/nltk_data...\n",
            "[nltk_data]   Package vader_lexicon is already up-to-date!\n",
            "[nltk_data] Downloading package stopwords to /root/nltk_data...\n",
            "[nltk_data]   Package stopwords is already up-to-date!\n"
          ]
        },
        {
          "output_type": "stream",
          "name": "stderr",
          "text": [
            "100%|██████████| 1345/1345 [00:00<00:00, 7137.18it/s]\n",
            "100%|██████████| 1345/1345 [00:00<00:00, 551558.36it/s]\n",
            "/content/drive/MyDrive/Dipak/Internship/Technocolab/functions.py:231: UserWarning:\n",
            "\n",
            "Pandas doesn't allow columns to be created via a new attribute name - see https://pandas.pydata.org/pandas-docs/stable/indexing.html#attribute-access\n",
            "\n",
            "/content/drive/MyDrive/Dipak/Internship/Technocolab/functions.py:232: UserWarning:\n",
            "\n",
            "Pandas doesn't allow columns to be created via a new attribute name - see https://pandas.pydata.org/pandas-docs/stable/indexing.html#attribute-access\n",
            "\n",
            "/content/drive/MyDrive/Dipak/Internship/Technocolab/functions.py:233: UserWarning:\n",
            "\n",
            "Pandas doesn't allow columns to be created via a new attribute name - see https://pandas.pydata.org/pandas-docs/stable/indexing.html#attribute-access\n",
            "\n"
          ]
        },
        {
          "output_type": "stream",
          "name": "stdout",
          "text": [
            "\r[*********************100%***********************]  1 of 1 completed\n"
          ]
        }
      ]
    },
    {
      "cell_type": "code",
      "metadata": {
        "id": "hgQFHZmJUdMr",
        "colab": {
          "base_uri": "https://localhost:8080/"
        },
        "outputId": "23fc8ade-527c-47d2-c70d-4c3b8a1ad286"
      },
      "source": [
        "import numpy as np\n",
        "columns=['Positive', 'Negative', 'Neutral', 'Close', 'Volume', 0, 1, 2, 3, 4, 0, 1]\n",
        "pred_data1=pd.DataFrame(columns=columns)\n",
        "pred_data1[\"Positive\"] = pred_data[\"pos_count\"]\n",
        "pred_data1[\"Negative\"] = pred_data[\"neg_count\"]\n",
        "pred_data1[\"Neutral\"] = pred_data[\"neu_count\"]\n",
        "pred_data1[\"Close\"] = pred_data[\"Close\"]\n",
        "pred_data1[\"Volume\"] = pred_data[\"Volume\"]\n",
        "\n",
        "# pred_data1[\"Year\"] = pred_data[\"Year\"]\n",
        "pred_data1.index = pred_data.Date\n",
        "\n",
        "for i in range(pred_data.shape[0]):\n",
        "  pred_data.Year[i]= np.int64(pred_data.Year[i])\n",
        "  try:\n",
        "    if pred_data[\"Stockname\"][i] == \"AAPL\":\n",
        "      pred_data1.iloc[:,5] = 1\n",
        "\n",
        "    elif pred_data[\"Stockname\"][i] == \"MSFT\":\n",
        "      pred_data1.iloc[:,6] = 1\n",
        "\n",
        "    elif pred_data[\"Stockname\"][i] == \"NVDA\":\n",
        "      pred_data1.iloc[:,7] = 1\n",
        "\n",
        "    elif pred_data[\"Stockname\"][i] == \"TSLA\":\n",
        "      pred_data1.iloc[:,9] = 1\n",
        "\n",
        "    elif pred_data[\"Stockname\"][i] == \"PYPL\":\n",
        "      pred_data1.iloc[:,8] = 1\n",
        "  except:\n",
        "    continue\n",
        "  if pred_data[\"Year\"][i] == 2020:\n",
        "    pred_data1.iloc[:,10] = 1\n",
        "\n",
        "  elif pred_data[\"Year\"][i] == 2021:\n",
        "    pred_data1.iloc[:,11] = 1\n",
        "\n",
        "\n",
        "\n",
        "\n",
        "# pred_data1.StockName = le.transform(pred_data1.StockName)\n",
        "# pred_data1.Year = le1.transform(pred_data1.Year)\n",
        "\n",
        "pred_data1.iloc[:,4] = sc1.transform(np.array(pred_data1.iloc[:,4]).reshape(-1,1))\n",
        "pred_data1 = pred_data1.replace (np.nan, 0)"
      ],
      "execution_count": null,
      "outputs": [
        {
          "output_type": "stream",
          "name": "stderr",
          "text": [
            "/usr/local/lib/python3.7/dist-packages/ipykernel_launcher.py:14: SettingWithCopyWarning:\n",
            "\n",
            "\n",
            "A value is trying to be set on a copy of a slice from a DataFrame\n",
            "\n",
            "See the caveats in the documentation: https://pandas.pydata.org/pandas-docs/stable/user_guide/indexing.html#returning-a-view-versus-a-copy\n",
            "\n",
            "/usr/local/lib/python3.7/dist-packages/IPython/core/interactiveshell.py:2882: SettingWithCopyWarning:\n",
            "\n",
            "\n",
            "A value is trying to be set on a copy of a slice from a DataFrame\n",
            "\n",
            "See the caveats in the documentation: https://pandas.pydata.org/pandas-docs/stable/user_guide/indexing.html#returning-a-view-versus-a-copy\n",
            "\n"
          ]
        }
      ]
    },
    {
      "cell_type": "code",
      "metadata": {
        "colab": {
          "base_uri": "https://localhost:8080/",
          "height": 111
        },
        "id": "CtZTOCEKd9N4",
        "outputId": "9f811485-6d43-4d8c-c40f-006c5418ba75"
      },
      "source": [
        "# dataset for prediction\n",
        "pred_data1"
      ],
      "execution_count": null,
      "outputs": [
        {
          "output_type": "execute_result",
          "data": {
            "text/html": [
              "<div>\n",
              "<style scoped>\n",
              "    .dataframe tbody tr th:only-of-type {\n",
              "        vertical-align: middle;\n",
              "    }\n",
              "\n",
              "    .dataframe tbody tr th {\n",
              "        vertical-align: top;\n",
              "    }\n",
              "\n",
              "    .dataframe thead th {\n",
              "        text-align: right;\n",
              "    }\n",
              "</style>\n",
              "<table border=\"1\" class=\"dataframe\">\n",
              "  <thead>\n",
              "    <tr style=\"text-align: right;\">\n",
              "      <th></th>\n",
              "      <th>Positive</th>\n",
              "      <th>Negative</th>\n",
              "      <th>Neutral</th>\n",
              "      <th>Close</th>\n",
              "      <th>Volume</th>\n",
              "      <th>0</th>\n",
              "      <th>1</th>\n",
              "      <th>2</th>\n",
              "      <th>3</th>\n",
              "      <th>4</th>\n",
              "      <th>0</th>\n",
              "      <th>1</th>\n",
              "    </tr>\n",
              "    <tr>\n",
              "      <th>Date</th>\n",
              "      <th></th>\n",
              "      <th></th>\n",
              "      <th></th>\n",
              "      <th></th>\n",
              "      <th></th>\n",
              "      <th></th>\n",
              "      <th></th>\n",
              "      <th></th>\n",
              "      <th></th>\n",
              "      <th></th>\n",
              "      <th></th>\n",
              "      <th></th>\n",
              "    </tr>\n",
              "  </thead>\n",
              "  <tbody>\n",
              "    <tr>\n",
              "      <th>2021-09-22</th>\n",
              "      <td>34</td>\n",
              "      <td>8</td>\n",
              "      <td>44</td>\n",
              "      <td>751.94</td>\n",
              "      <td>-0.737553</td>\n",
              "      <td>0</td>\n",
              "      <td>0</td>\n",
              "      <td>0</td>\n",
              "      <td>0</td>\n",
              "      <td>1</td>\n",
              "      <td>0</td>\n",
              "      <td>1</td>\n",
              "    </tr>\n",
              "  </tbody>\n",
              "</table>\n",
              "</div>"
            ],
            "text/plain": [
              "            Positive  Negative  Neutral   Close    Volume  0  1  2  3  4  0  1\n",
              "Date                                                                          \n",
              "2021-09-22        34         8       44  751.94 -0.737553  0  0  0  0  1  0  1"
            ]
          },
          "metadata": {},
          "execution_count": 104
        }
      ]
    },
    {
      "cell_type": "markdown",
      "metadata": {
        "id": "FQ8k48dtBxPs"
      },
      "source": [
        "# Prediction through best model"
      ]
    },
    {
      "cell_type": "code",
      "metadata": {
        "id": "Yo6kGq5KeAmX"
      },
      "source": [
        "# X = np.array(df1.drop([\"Close\"],1))\n",
        "# y = np.array(df1.Close)\n",
        "# from sklearn.ensemble import RandomForestRegressor\n",
        "\n",
        "# test = pred_data1.drop('Close', axis=1) \n",
        "# # regressor = RandomForestRegressor(n_estimators = 10, random_state = 0)\n",
        "# # regressor.fit(X, y)\n",
        "# rf1.fit(X,y)\n",
        "# y_pred = rf1.predict(np.array(test))\n",
        "\n",
        "# print(\"Pridected Value is:\",sc2.inverse_transform(y_pred))\n",
        "# print(\"Actual Value is:\",pred_data1.Close.values)\n",
        "# # print(\"MAE\", mean_absolute_error(y_test, y_pred))\n",
        "# # print(\"RMSE\",np.sqrt(mean_squared_error(y_test, y_pred)))\n",
        "# # print(\"Rsquared\", r2_score(y_test, y_pred))"
      ],
      "execution_count": null,
      "outputs": []
    },
    {
      "cell_type": "markdown",
      "metadata": {
        "id": "hSB6NwY6B17r"
      },
      "source": [
        "### RandomForestRegressor(bootstrap=True, max_depth=80, max_features='sqrt', min_samples_leaf=3, min_samples_split=8, n_estimators=1000, random_state=1)"
      ]
    },
    {
      "cell_type": "code",
      "metadata": {
        "colab": {
          "base_uri": "https://localhost:8080/"
        },
        "id": "TMv5cXKfhKI7",
        "outputId": "a8e072c6-4880-4b5d-cf41-5fd528724c91"
      },
      "source": [
        "X = np.array(df1.drop([\"Close\"],1))\n",
        "y = np.array(df1.Close)\n",
        "from sklearn.ensemble import RandomForestRegressor\n",
        "\n",
        "test = pred_data1.drop('Close', axis=1) \n",
        "\n",
        "rf_2.fit(X,y)\n",
        "y_pred = rf_2.predict(np.array(test))\n",
        "\n",
        "print(\"Pridected Value is:\",sc2.inverse_transform(y_pred))\n",
        "print(\"Actual Value is:\",pred_data1.Close.values)\n"
      ],
      "execution_count": null,
      "outputs": [
        {
          "output_type": "stream",
          "name": "stdout",
          "text": [
            "Pridected Value is: [684.93267054]\n",
            "Actual Value is: [751.94]\n"
          ]
        }
      ]
    },
    {
      "cell_type": "code",
      "metadata": {
        "id": "YqeHEbmLhOK7"
      },
      "source": [
        ""
      ],
      "execution_count": null,
      "outputs": []
    }
  ]
}